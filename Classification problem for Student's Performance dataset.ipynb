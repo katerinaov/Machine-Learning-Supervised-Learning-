{
 "cells": [
  {
   "cell_type": "markdown",
   "metadata": {},
   "source": [
    "# Classification problem for Student's Performance dataset"
   ]
  },
  {
   "cell_type": "code",
   "execution_count": 1,
   "metadata": {},
   "outputs": [],
   "source": [
    "#importing all the necessary libraries\n",
    "from __future__ import division\n",
    "import numpy as np # linear algebra\n",
    "import pandas as pd # data processing, CSV file I/O (e.g. pd.read_csv)\n",
    "import seaborn as sns # data visualization library\n",
    "import matplotlib.pyplot as plt\n",
    "\n",
    "from sklearn.linear_model import RandomizedLogisticRegression\n",
    "from sklearn.model_selection import train_test_split\n",
    "from sklearn.metrics import accuracy_score\n",
    "from sklearn.metrics import confusion_matrix\n",
    "from sklearn.metrics import classification_report\n",
    "\n",
    "from sklearn.neighbors import KNeighborsClassifier\n",
    "from sklearn.ensemble import RandomForestClassifier\n",
    "from sklearn.model_selection import GridSearchCV\n",
    "from sklearn.feature_selection import RFE\n",
    "from sklearn.model_selection import cross_val_score\n",
    "from sklearn.multiclass import OneVsRestClassifier\n",
    "from sklearn.linear_model import LogisticRegression\n",
    "\n",
    "%matplotlib inline"
   ]
  },
  {
   "cell_type": "markdown",
   "metadata": {},
   "source": [
    "This is 2nd part of data analysis of Student Perfomance dataset. \n",
    "First part with EDA  -  ['Linear Regression for Student's Grade dataset'](https://github.com/katerinaov/Machine-Learning-Supervised-Learning-/blob/master/Linear%20Regression%20on%20Student's%20Grades%20dataset.ipynb)."
   ]
  },
  {
   "cell_type": "code",
   "execution_count": 2,
   "metadata": {},
   "outputs": [
    {
     "name": "stdout",
     "output_type": "stream",
     "text": [
      "  school sex  age address famsize Pstatus  Medu  Fedu     Mjob      Fjob ...  \\\n",
      "0     GP   F   18       U     GT3       A     4     4  at_home   teacher ...   \n",
      "1     GP   F   17       U     GT3       T     1     1  at_home     other ...   \n",
      "2     GP   F   15       U     LE3       T     1     1  at_home     other ...   \n",
      "3     GP   F   15       U     GT3       T     4     2   health  services ...   \n",
      "4     GP   F   16       U     GT3       T     3     3    other     other ...   \n",
      "\n",
      "  famrel freetime  goout  Dalc  Walc health absences  G1  G2  G3  \n",
      "0      4        3      4     1     1      3        6   5   6   6  \n",
      "1      5        3      3     1     1      3        4   5   5   6  \n",
      "2      4        3      2     2     3      3       10   7   8  10  \n",
      "3      3        2      2     1     1      5        2  15  14  15  \n",
      "4      4        3      2     1     2      5        4   6  10  10  \n",
      "\n",
      "[5 rows x 33 columns]\n",
      "<class 'pandas.core.frame.DataFrame'>\n",
      "RangeIndex: 395 entries, 0 to 394\n",
      "Data columns (total 33 columns):\n",
      "school        395 non-null object\n",
      "sex           395 non-null object\n",
      "age           395 non-null int64\n",
      "address       395 non-null object\n",
      "famsize       395 non-null object\n",
      "Pstatus       395 non-null object\n",
      "Medu          395 non-null int64\n",
      "Fedu          395 non-null int64\n",
      "Mjob          395 non-null object\n",
      "Fjob          395 non-null object\n",
      "reason        395 non-null object\n",
      "guardian      395 non-null object\n",
      "traveltime    395 non-null int64\n",
      "studytime     395 non-null int64\n",
      "failures      395 non-null int64\n",
      "schoolsup     395 non-null object\n",
      "famsup        395 non-null object\n",
      "paid          395 non-null object\n",
      "activities    395 non-null object\n",
      "nursery       395 non-null object\n",
      "higher        395 non-null object\n",
      "internet      395 non-null object\n",
      "romantic      395 non-null object\n",
      "famrel        395 non-null int64\n",
      "freetime      395 non-null int64\n",
      "goout         395 non-null int64\n",
      "Dalc          395 non-null int64\n",
      "Walc          395 non-null int64\n",
      "health        395 non-null int64\n",
      "absences      395 non-null int64\n",
      "G1            395 non-null int64\n",
      "G2            395 non-null int64\n",
      "G3            395 non-null int64\n",
      "dtypes: int64(16), object(17)\n",
      "memory usage: 101.9+ KB\n",
      "None\n",
      "              age        Medu        Fedu  traveltime   studytime    failures  \\\n",
      "count  395.000000  395.000000  395.000000  395.000000  395.000000  395.000000   \n",
      "mean    16.696203    2.749367    2.521519    1.448101    2.035443    0.334177   \n",
      "std      1.276043    1.094735    1.088201    0.697505    0.839240    0.743651   \n",
      "min     15.000000    0.000000    0.000000    1.000000    1.000000    0.000000   \n",
      "25%     16.000000    2.000000    2.000000    1.000000    1.000000    0.000000   \n",
      "50%     17.000000    3.000000    2.000000    1.000000    2.000000    0.000000   \n",
      "75%     18.000000    4.000000    3.000000    2.000000    2.000000    0.000000   \n",
      "max     22.000000    4.000000    4.000000    4.000000    4.000000    3.000000   \n",
      "\n",
      "           famrel    freetime       goout        Dalc        Walc      health  \\\n",
      "count  395.000000  395.000000  395.000000  395.000000  395.000000  395.000000   \n",
      "mean     3.944304    3.235443    3.108861    1.481013    2.291139    3.554430   \n",
      "std      0.896659    0.998862    1.113278    0.890741    1.287897    1.390303   \n",
      "min      1.000000    1.000000    1.000000    1.000000    1.000000    1.000000   \n",
      "25%      4.000000    3.000000    2.000000    1.000000    1.000000    3.000000   \n",
      "50%      4.000000    3.000000    3.000000    1.000000    2.000000    4.000000   \n",
      "75%      5.000000    4.000000    4.000000    2.000000    3.000000    5.000000   \n",
      "max      5.000000    5.000000    5.000000    5.000000    5.000000    5.000000   \n",
      "\n",
      "         absences          G1          G2          G3  \n",
      "count  395.000000  395.000000  395.000000  395.000000  \n",
      "mean     5.708861   10.908861   10.713924   10.415190  \n",
      "std      8.003096    3.319195    3.761505    4.581443  \n",
      "min      0.000000    3.000000    0.000000    0.000000  \n",
      "25%      0.000000    8.000000    9.000000    8.000000  \n",
      "50%      4.000000   11.000000   11.000000   11.000000  \n",
      "75%      8.000000   13.000000   13.000000   14.000000  \n",
      "max     75.000000   19.000000   19.000000   20.000000  \n"
     ]
    }
   ],
   "source": [
    "student_df = pd.read_csv('student-mat.csv', sep=';')\n",
    "print(student_df.head())\n",
    "print(student_df.info())\n",
    "print(student_df.describe())"
   ]
  },
  {
   "cell_type": "markdown",
   "metadata": {},
   "source": [
    "As Regression models occured not the best fit for out dataset, let's try to solve this problem by \n",
    "4-level classification"
   ]
  },
  {
   "cell_type": "code",
   "execution_count": 3,
   "metadata": {},
   "outputs": [],
   "source": [
    "def grades_label(grade):\n",
    "    if grade >=0 and grade <6:\n",
    "        return 1\n",
    "    elif grade >= 6 and grade <11:\n",
    "        return 2\n",
    "    elif grade >=11 and grade < 16:\n",
    "        return 3\n",
    "    else:\n",
    "        return 4\n",
    "\n",
    "\n",
    "student_df['Grade'] = student_df['G3'].apply(grades_label)\n",
    "student_df.drop('G3',1, inplace=True)\n"
   ]
  },
  {
   "cell_type": "markdown",
   "metadata": {},
   "source": [
    "As was concluded in the first part of analysis, '0' outliers in 'G3' variable don't affect our model much\n",
    "So we just leave it."
   ]
  },
  {
   "cell_type": "code",
   "execution_count": 4,
   "metadata": {},
   "outputs": [],
   "source": [
    "y = student_df['Grade']\n",
    "\n",
    "X = student_df.drop('Grade', 1)\n",
    "X = pd.get_dummies(X, drop_first=True)"
   ]
  },
  {
   "cell_type": "code",
   "execution_count": 5,
   "metadata": {},
   "outputs": [
    {
     "name": "stdout",
     "output_type": "stream",
     "text": [
      "Num Features: 5\n",
      "Feature Ranking: [ 4 27 21  8 22 20 19 35 37 25 26 29 34 18  3  5 36  9 10  2 15 14 13 31\n",
      " 11 23  6  1 32 33 16 17 24  1 30  1 12  7  1 28  1]\n"
     ]
    },
    {
     "data": {
      "image/png": "[encoded data removed]",
      "text/plain": [
       "<Figure size 1080x720 with 1 Axes>"
      ]
     },
     "metadata": {},
     "output_type": "display_data"
    }
   ],
   "source": [
    "#Select important features for the model with Recursive feature elimination method\n",
    "model = LogisticRegression()\n",
    "rfe = RFE(model,5)\n",
    "fit = rfe.fit(X, y)\n",
    "\n",
    "print(\"Num Features: %s\" % (fit.n_features_))\n",
    "print(\"Feature Ranking: %s\" % (fit.ranking_))\n",
    "\n",
    "feature_scores = pd.DataFrame(X.columns)\n",
    "feature_scores.columns  = ['Features']\n",
    "feature_scores['Rank'] = pd.Series(fit.ranking_)\n",
    "\n",
    "_ = plt.figure(figsize=(15,10))\n",
    "_ = sns.barplot('Features', 'Rank', data=feature_scores)\n",
    "_ = plt.xticks(rotation=90)\n",
    "plt.show()"
   ]
  },
  {
   "cell_type": "code",
   "execution_count": 6,
   "metadata": {},
   "outputs": [
    {
     "name": "stdout",
     "output_type": "stream",
     "text": [
      "40     romantic_yes\n",
      "38       higher_yes\n",
      "35         paid_yes\n",
      "33    schoolsup_yes\n",
      "27     Fjob_teacher\n",
      "19        Pstatus_T\n",
      "14               G2\n",
      "0               age\n",
      "15        school_MS\n",
      "26    Fjob_services\n",
      "37      nursery_yes\n",
      "Name: Features, dtype: object\n"
     ]
    }
   ],
   "source": [
    "#Select 10 most important features according to RFE:\n",
    "best_features = feature_scores.sort_values(by='Rank').iloc[:11,0]\n",
    "print(best_features)\n",
    "X = X[best_features]\n"
   ]
  },
  {
   "cell_type": "code",
   "execution_count": 7,
   "metadata": {},
   "outputs": [],
   "source": [
    "X_train, X_test, y_train, y_test = train_test_split(X, y, test_size=0.3, random_state=42)"
   ]
  },
  {
   "cell_type": "code",
   "execution_count": 8,
   "metadata": {},
   "outputs": [
    {
     "name": "stdout",
     "output_type": "stream",
     "text": [
      "0.8151260504201681\n",
      "[[ 8  8  0  0]\n",
      " [ 4 39  4  0]\n",
      " [ 0  1 40  1]\n",
      " [ 0  0  4 10]]\n",
      "             precision    recall  f1-score   support\n",
      "\n",
      "          1       0.67      0.50      0.57        16\n",
      "          2       0.81      0.83      0.82        47\n",
      "          3       0.83      0.95      0.89        42\n",
      "          4       0.91      0.71      0.80        14\n",
      "\n",
      "avg / total       0.81      0.82      0.81       119\n",
      "\n"
     ]
    }
   ],
   "source": [
    "#Train Logistic Regression model\n",
    "logreg = LogisticRegression(random_state=0, multi_class='multinomial', solver='newton-cg')\n",
    "logreg.fit(X_train, y_train)\n",
    "y_pred = logreg.predict(X_test)\n",
    "print(accuracy_score(y_test, y_pred))\n",
    "print(confusion_matrix(y_test, y_pred))\n",
    "print(classification_report(y_test, y_pred))\n",
    "\n"
   ]
  },
  {
   "cell_type": "code",
   "execution_count": 9,
   "metadata": {},
   "outputs": [
    {
     "name": "stdout",
     "output_type": "stream",
     "text": [
      "0.8043478260869565 {'n_neighbors': 5}\n",
      "0.8151260504201681\n",
      "[[ 6 10  0  0]\n",
      " [ 4 41  2  0]\n",
      " [ 0  3 39  0]\n",
      " [ 0  0  3 11]]\n",
      "             precision    recall  f1-score   support\n",
      "\n",
      "          1       0.60      0.38      0.46        16\n",
      "          2       0.76      0.87      0.81        47\n",
      "          3       0.89      0.93      0.91        42\n",
      "          4       1.00      0.79      0.88        14\n",
      "\n",
      "avg / total       0.81      0.82      0.81       119\n",
      "\n",
      "RMSE 0.42996970774675736\n"
     ]
    }
   ],
   "source": [
    "#Train Kneighbor Classifier model,\n",
    "#used GridSearcvCV to chose the best number of 'n_neighbors' parameter\n",
    "params = {'n_neighbors': np.arange(1,10)}\n",
    "\n",
    "knn = KNeighborsClassifier() \n",
    "knn_cv = GridSearchCV(knn, params, cv=5)\n",
    "knn_cv.fit(X_train, y_train)\n",
    "print(knn_cv.best_score_,knn_cv.best_params_ )\n",
    "\n",
    "y_pred = knn_cv.predict(X_test)\n",
    "rmse = np.sqrt(np.mean((y_pred - y_test) ** 2))\n",
    "\n",
    "\n",
    "\n",
    "print(accuracy_score(y_test, y_pred))\n",
    "print(confusion_matrix(y_test, y_pred))\n",
    "print(classification_report(y_test, y_pred))\n",
    "print('RMSE', rmse)"
   ]
  },
  {
   "cell_type": "code",
   "execution_count": 10,
   "metadata": {},
   "outputs": [
    {
     "name": "stdout",
     "output_type": "stream",
     "text": [
      "0.7647058823529411\n",
      "[[ 7  8  1  0]\n",
      " [ 7 37  3  0]\n",
      " [ 0  4 38  0]\n",
      " [ 0  0  5  9]]\n",
      "             precision    recall  f1-score   support\n",
      "\n",
      "          1       0.50      0.44      0.47        16\n",
      "          2       0.76      0.79      0.77        47\n",
      "          3       0.81      0.90      0.85        42\n",
      "          4       1.00      0.64      0.78        14\n",
      "\n",
      "avg / total       0.77      0.76      0.76       119\n",
      "\n",
      "RMSE 0.5103961223213518\n"
     ]
    }
   ],
   "source": [
    "#Train Random Forest classifier model\n",
    "rdn = RandomForestClassifier()\n",
    "rdn.fit(X_train, y_train)\n",
    "\n",
    "y_pred = rdn.predict(X_test)\n",
    "print(accuracy_score(y_test, y_pred))\n",
    "print(confusion_matrix(y_test, y_pred))\n",
    "print(classification_report(y_test, y_pred))\n",
    "rmse = np.sqrt(np.mean((y_pred - y_test) ** 2))\n",
    "\n",
    "print('RMSE', rmse)"
   ]
  },
  {
   "cell_type": "markdown",
   "metadata": {},
   "source": [
    "After 3 experiments with Logistic Regression, KneigborsClassifier and RandomForestClassifier, \n",
    "the second model is occured to work best with our data. Both accaracy of predictions and\n",
    "root mean squared error are the best results."
   ]
  },
  {
   "cell_type": "code",
   "execution_count": null,
   "metadata": {},
   "outputs": [],
   "source": []
  }
 ],
 "metadata": {
  "kernelspec": {
   "display_name": "Python 3",
   "language": "python",
   "name": "python3"
  },
  "language_info": {
   "codemirror_mode": {
    "name": "ipython",
    "version": 3
   },
   "file_extension": ".py",
   "mimetype": "text/x-python",
   "name": "python",
   "nbconvert_exporter": "python",
   "pygments_lexer": "ipython3",
   "version": "3.6.5"
  }
 },
 "nbformat": 4,
 "nbformat_minor": 2
}
