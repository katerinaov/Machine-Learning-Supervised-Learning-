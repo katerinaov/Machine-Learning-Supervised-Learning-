{
 "cells": [
  {
   "cell_type": "markdown",
   "metadata": {},
   "source": [
    "# Linear Regression for Student's Grade dataset\n"
   ]
  },
  {
   "cell_type": "code",
   "execution_count": 15,
   "metadata": {},
   "outputs": [],
   "source": [
    "#importing all the necessary libraries\n",
    "from __future__ import division\n",
    "import numpy as np # linear algebra\n",
    "import pandas as pd # data processing, CSV file I/O (e.g. pd.read_csv)\n",
    "import seaborn as sns # data visualization library\n",
    "import matplotlib.pyplot as plt\n",
    "\n",
    "from sklearn.linear_model import LinearRegression\n",
    "from sklearn.model_selection import train_test_split\n",
    "from sklearn.linear_model import Lasso\n",
    "from sklearn.linear_model import Ridge\n",
    "from sklearn.metrics import r2_score\n",
    "from sklearn.metrics import accuracy_score\n",
    "\n",
    "\n",
    "\n",
    "from sklearn.model_selection import cross_val_score\n",
    "\n",
    "\n",
    "%matplotlib inline\n"
   ]
  },
  {
   "cell_type": "raw",
   "metadata": {},
   "source": [
    "The data used is from UCI Mashine Lering Repository https://archive.ics.uci.edu/ml/datasets/student+performance.\n",
    "Data Set Information: Student Perfomance dataset\n",
    "\n",
    "Attribute Information:\n",
    "\n",
    "# Attributes for both student-mat.csv (Math course) and student-por.csv (Portuguese language course) datasets: \n",
    "1 school - student's school (binary: 'GP' - Gabriel Pereira or 'MS' - Mousinho da Silveira) \n",
    "2 sex - student's sex (binary: 'F' - female or 'M' - male) \n",
    "3 age - student's age (numeric: from 15 to 22) \n",
    "4 address - student's home address type (binary: 'U' - urban or 'R' - rural) \n",
    "5 famsize - family size (binary: 'LE3' - less or equal to 3 or 'GT3' - greater than 3) \n",
    "6 Pstatus - parent's cohabitation status (binary: 'T' - living together or 'A' - apart) \n",
    "7 Medu - mother's education (numeric: 0 - none, 1 - primary education (4th grade), 2 â€“ 5th to 9th grade, 3 â€“ secondary education or 4 â€“ higher education) \n",
    "8 Fedu - father's education (numeric: 0 - none, 1 - primary education (4th grade), 2 â€“ 5th to 9th grade, 3 â€“ secondary education or 4 â€“ higher education) \n",
    "9 Mjob - mother's job (nominal: 'teacher', 'health' care related, civil 'services' (e.g. administrative or police), 'at_home' or 'other') \n",
    "10 Fjob - father's job (nominal: 'teacher', 'health' care related, civil 'services' (e.g. administrative or police), 'at_home' or 'other') \n",
    "11 reason - reason to choose this school (nominal: close to 'home', school 'reputation', 'course' preference or 'other') \n",
    "12 guardian - student's guardian (nominal: 'mother', 'father' or 'other') \n",
    "13 traveltime - home to school travel time (numeric: 1 - <15 min., 2 - 15 to 30 min., 3 - 30 min. to 1 hour, or 4 - >1 hour) \n",
    "14 studytime - weekly study time (numeric: 1 - <2 hours, 2 - 2 to 5 hours, 3 - 5 to 10 hours, or 4 - >10 hours) \n",
    "15 failures - number of past class failures (numeric: n if 1<=n<3, else 4) \n",
    "16 schoolsup - extra educational support (binary: yes or no) \n",
    "17 famsup - family educational support (binary: yes or no) \n",
    "18 paid - extra paid classes within the course subject (Math or Portuguese) (binary: yes or no) \n",
    "19 activities - extra-curricular activities (binary: yes or no) \n",
    "20 nursery - attended nursery school (binary: yes or no) \n",
    "21 higher - wants to take higher education (binary: yes or no) \n",
    "22 internet - Internet access at home (binary: yes or no) \n",
    "23 romantic - with a romantic relationship (binary: yes or no) \n",
    "24 famrel - quality of family relationships (numeric: from 1 - very bad to 5 - excellent) \n",
    "25 freetime - free time after school (numeric: from 1 - very low to 5 - very high) \n",
    "26 goout - going out with friends (numeric: from 1 - very low to 5 - very high) \n",
    "27 Dalc - workday alcohol consumption (numeric: from 1 - very low to 5 - very high) \n",
    "28 Walc - weekend alcohol consumption (numeric: from 1 - very low to 5 - very high) \n",
    "29 health - current health status (numeric: from 1 - very bad to 5 - very good) \n",
    "30 absences - number of school absences (numeric: from 0 to 93) \n",
    "\n",
    "# these grades are related with the course subject, Math or Portuguese: \n",
    "31 G1 - first period grade (numeric: from 0 to 20) \n",
    "31 G2 - second period grade (numeric: from 0 to 20) \n",
    "32 G3 - final grade (numeric: from 0 to 20, output target)\n"
   ]
  },
  {
   "cell_type": "code",
   "execution_count": 69,
   "metadata": {},
   "outputs": [
    {
     "name": "stdout",
     "output_type": "stream",
     "text": [
      "  school sex  age address famsize Pstatus  Medu  Fedu     Mjob      Fjob ...  \\\n",
      "0     GP   F   18       U     GT3       A     4     4  at_home   teacher ...   \n",
      "1     GP   F   17       U     GT3       T     1     1  at_home     other ...   \n",
      "2     GP   F   15       U     LE3       T     1     1  at_home     other ...   \n",
      "3     GP   F   15       U     GT3       T     4     2   health  services ...   \n",
      "4     GP   F   16       U     GT3       T     3     3    other     other ...   \n",
      "\n",
      "  famrel freetime  goout  Dalc  Walc health absences  G1  G2  G3  \n",
      "0      4        3      4     1     1      3        6   5   6   6  \n",
      "1      5        3      3     1     1      3        4   5   5   6  \n",
      "2      4        3      2     2     3      3       10   7   8  10  \n",
      "3      3        2      2     1     1      5        2  15  14  15  \n",
      "4      4        3      2     1     2      5        4   6  10  10  \n",
      "\n",
      "[5 rows x 33 columns]\n",
      "<class 'pandas.core.frame.DataFrame'>\n",
      "RangeIndex: 395 entries, 0 to 394\n",
      "Data columns (total 33 columns):\n",
      "school        395 non-null object\n",
      "sex           395 non-null object\n",
      "age           395 non-null int64\n",
      "address       395 non-null object\n",
      "famsize       395 non-null object\n",
      "Pstatus       395 non-null object\n",
      "Medu          395 non-null int64\n",
      "Fedu          395 non-null int64\n",
      "Mjob          395 non-null object\n",
      "Fjob          395 non-null object\n",
      "reason        395 non-null object\n",
      "guardian      395 non-null object\n",
      "traveltime    395 non-null int64\n",
      "studytime     395 non-null int64\n",
      "failures      395 non-null int64\n",
      "schoolsup     395 non-null object\n",
      "famsup        395 non-null object\n",
      "paid          395 non-null object\n",
      "activities    395 non-null object\n",
      "nursery       395 non-null object\n",
      "higher        395 non-null object\n",
      "internet      395 non-null object\n",
      "romantic      395 non-null object\n",
      "famrel        395 non-null int64\n",
      "freetime      395 non-null int64\n",
      "goout         395 non-null int64\n",
      "Dalc          395 non-null int64\n",
      "Walc          395 non-null int64\n",
      "health        395 non-null int64\n",
      "absences      395 non-null int64\n",
      "G1            395 non-null int64\n",
      "G2            395 non-null int64\n",
      "G3            395 non-null int64\n",
      "dtypes: int64(16), object(17)\n",
      "memory usage: 101.9+ KB\n",
      "None\n",
      "              age        Medu        Fedu  traveltime   studytime    failures  \\\n",
      "count  395.000000  395.000000  395.000000  395.000000  395.000000  395.000000   \n",
      "mean    16.696203    2.749367    2.521519    1.448101    2.035443    0.334177   \n",
      "std      1.276043    1.094735    1.088201    0.697505    0.839240    0.743651   \n",
      "min     15.000000    0.000000    0.000000    1.000000    1.000000    0.000000   \n",
      "25%     16.000000    2.000000    2.000000    1.000000    1.000000    0.000000   \n",
      "50%     17.000000    3.000000    2.000000    1.000000    2.000000    0.000000   \n",
      "75%     18.000000    4.000000    3.000000    2.000000    2.000000    0.000000   \n",
      "max     22.000000    4.000000    4.000000    4.000000    4.000000    3.000000   \n",
      "\n",
      "           famrel    freetime       goout        Dalc        Walc      health  \\\n",
      "count  395.000000  395.000000  395.000000  395.000000  395.000000  395.000000   \n",
      "mean     3.944304    3.235443    3.108861    1.481013    2.291139    3.554430   \n",
      "std      0.896659    0.998862    1.113278    0.890741    1.287897    1.390303   \n",
      "min      1.000000    1.000000    1.000000    1.000000    1.000000    1.000000   \n",
      "25%      4.000000    3.000000    2.000000    1.000000    1.000000    3.000000   \n",
      "50%      4.000000    3.000000    3.000000    1.000000    2.000000    4.000000   \n",
      "75%      5.000000    4.000000    4.000000    2.000000    3.000000    5.000000   \n",
      "max      5.000000    5.000000    5.000000    5.000000    5.000000    5.000000   \n",
      "\n",
      "         absences          G1          G2          G3  \n",
      "count  395.000000  395.000000  395.000000  395.000000  \n",
      "mean     5.708861   10.908861   10.713924   10.415190  \n",
      "std      8.003096    3.319195    3.761505    4.581443  \n",
      "min      0.000000    3.000000    0.000000    0.000000  \n",
      "25%      0.000000    8.000000    9.000000    8.000000  \n",
      "50%      4.000000   11.000000   11.000000   11.000000  \n",
      "75%      8.000000   13.000000   13.000000   14.000000  \n",
      "max     75.000000   19.000000   19.000000   20.000000  \n"
     ]
    }
   ],
   "source": [
    "#Load dataset from csv file, here only Math scores data is used\n",
    "\n",
    "student_df = pd.read_csv('student-mat.csv', sep=';')\n",
    "print(student_df.head())\n",
    "print(student_df.info())\n",
    "print(student_df.describe())\n",
    "\n",
    "#Dataset has 395 rows and 33 columns, where 'G3' is our target variable"
   ]
  },
  {
   "cell_type": "code",
   "execution_count": 70,
   "metadata": {},
   "outputs": [
    {
     "name": "stdout",
     "output_type": "stream",
     "text": [
      "count    395.000000\n",
      "mean      10.415190\n",
      "std        4.581443\n",
      "min        0.000000\n",
      "25%        8.000000\n",
      "50%       11.000000\n",
      "75%       14.000000\n",
      "max       20.000000\n",
      "Name: G3, dtype: float64\n"
     ]
    },
    {
     "data": {
      "text/plain": [
       "count    357.000000\n",
       "mean      11.523810\n",
       "std        3.227797\n",
       "min        4.000000\n",
       "25%        9.000000\n",
       "50%       11.000000\n",
       "75%       14.000000\n",
       "max       20.000000\n",
       "Name: G3, dtype: float64"
      ]
     },
     "execution_count": 70,
     "metadata": {},
     "output_type": "execute_result"
    },
    {
     "data": {
      "image/png": "[encoded data removed]",
      "text/plain": [
       "<Figure size 432x288 with 1 Axes>"
      ]
     },
     "metadata": {},
     "output_type": "display_data"
    }
   ],
   "source": [
    "print(student_df.G3.describe())\n",
    "\n",
    "plt.hist(student_df['G3'], color='green', bins=15)\n",
    "plt.xlabel('Grades')\n",
    "plt.ylabel('Count')\n",
    "\n",
    "#On the plot we can see that there might be some outliers at 0 or 1\n",
    "#Let's check it out\n",
    "\n",
    "student_df['G3'].value_counts()\n",
    "\n",
    "# So here's 38 'zero' values in our target variable. let's remove it first, later we can check \n",
    "#these values have an serious affect on our model:\n",
    "student_df = student_df[~student_df['G3'].isin([0,1])]\n",
    "student_df['G3'].describe()"
   ]
  },
  {
   "cell_type": "code",
   "execution_count": 71,
   "metadata": {},
   "outputs": [
    {
     "data": {
      "text/plain": [
       "<matplotlib.axes._subplots.AxesSubplot at 0x1a2230bc18>"
      ]
     },
     "execution_count": 71,
     "metadata": {},
     "output_type": "execute_result"
    },
    {
     "data": {
      "image/png": "[encoded data removed]",
      "text/plain": [
       "<Figure size 432x288 with 1 Axes>"
      ]
     },
     "metadata": {},
     "output_type": "display_data"
    }
   ],
   "source": [
    "# Distribution looks really close to normal with mode in 11 with no noticable skew.\n",
    "#Let's check how catigoracal variables influence on the Grade.\n",
    "\n",
    "#What effect 'address' or area has on the Grade?\n",
    "sns.kdeplot(student_df.loc[student_df['address'] == 'R','G3'], label = 'Rural', shade=True)\n",
    "sns.kdeplot(student_df.loc[student_df['address'] == 'U', 'G3'], label = 'Urban', shade=True)\n",
    "\n"
   ]
  },
  {
   "cell_type": "code",
   "execution_count": 72,
   "metadata": {},
   "outputs": [
    {
     "data": {
      "text/plain": [
       "<matplotlib.axes._subplots.AxesSubplot at 0x1a2231bd30>"
      ]
     },
     "execution_count": 72,
     "metadata": {},
     "output_type": "execute_result"
    },
    {
     "data": {
      "image/png": "[encoded data removed]",
      "text/plain": [
       "<Figure size 432x288 with 1 Axes>"
      ]
     },
     "metadata": {},
     "output_type": "display_data"
    }
   ],
   "source": [
    "#What about a guardian?\n",
    "\n",
    "sns.kdeplot(student_df.loc[student_df['guardian'] == 'mother','G3'], label = 'Mother', shade=True)\n",
    "sns.kdeplot(student_df.loc[student_df['guardian'] == 'father','G3'], label = 'Father', shade=True)\n",
    "sns.kdeplot(student_df.loc[student_df['guardian'] == 'other','G3'], label = 'Other', shade=True)\n",
    "\n",
    "#It seems that there's no sagnificant influence fom both features.\n",
    "#Let's prove it with some statistics"
   ]
  },
  {
   "cell_type": "code",
   "execution_count": 73,
   "metadata": {},
   "outputs": [
    {
     "name": "stdout",
     "output_type": "stream",
     "text": [
      "failures     -0.360415\n",
      "age          -0.161579\n",
      "goout        -0.132791\n",
      "traveltime   -0.117142\n",
      "health       -0.061335\n",
      "Dalc         -0.054660\n",
      "Walc         -0.051939\n",
      "freetime      0.011307\n",
      "absences      0.034247\n",
      "famrel        0.051363\n",
      "studytime     0.097820\n",
      "Fedu          0.152457\n",
      "Medu          0.217147\n",
      "G1            0.801468\n",
      "G2            0.904868\n",
      "G3            1.000000\n",
      "Name: G3, dtype: float64\n"
     ]
    }
   ],
   "source": [
    "#Chick the correlations\n",
    "print(student_df1.corr()['G3'].sort_values())\n",
    "\n",
    "#As was expected, 'G2' and 'G3' have the most sagnificant effect on 'G3'. \n",
    "#Also Mother education 'Medu' and Father education 'Fedu' might affect out final grades."
   ]
  },
  {
   "cell_type": "code",
   "execution_count": 74,
   "metadata": {},
   "outputs": [],
   "source": [
    "#Create the target variable for the further model training\n",
    "y = student_df['G3']\n",
    "\n",
    "# student_df =  student_df.drop(columns = ['G1', 'G2'])\n",
    "#As sklearn works only with numerical data, let's do some oe-hot encoding for our catigorical variables\n",
    "student_df = pd.get_dummies(student_df, drop_first=True)\n",
    "\n",
    "#Get 6 features with highest level of correlation with 'G3'\n",
    "max_corr = student_df.corr().abs()['G3'].sort_values(ascending=False).drop_duplicates()[:7]\n",
    "\n",
    "#Create the features dataframe\n",
    "x = student_df.loc[:, max_corr.index]\n",
    "x = x.drop(columns = 'G3')\n",
    "\n"
   ]
  },
  {
   "cell_type": "code",
   "execution_count": 78,
   "metadata": {},
   "outputs": [
    {
     "name": "stdout",
     "output_type": "stream",
     "text": [
      "Mean absolute error is 0.627402\n",
      "Root Mean squared error is 0.829924\n",
      "0.928623540750542\n",
      "Grade = 0.32+0.864 * G2 + 0.129 * G1 + -0.004 * failures + -0.073 * schoolsup_yes + -0.009 * absences + -0.002 * Medu \n"
     ]
    }
   ],
   "source": [
    "#Linear Regression\n",
    "x_train, x_test, y_train, y_test = train_test_split(x,y, test_size= 0.25, random_state=42)\n",
    "\n",
    "lin_model = LinearRegression()\n",
    "lin_model.fit(x_train, y_train)\n",
    "\n",
    "#Check the Mean Absolute Error and Roor Mean Squared Error\n",
    "mae = np.mean(abs(lin_model.predict(x_test)-y_test))\n",
    "rmse = np.sqrt(np.mean((lin_model.predict(x_test) - y_test) ** 2))\n",
    "\n",
    "print('Mean absolute error is %f' %(mae))\n",
    "print('Root Mean squared error is %f' %rmse)\n",
    "print(lin_model.score(x_test, y_test))\n",
    "final_formula = 'Grade = %0.2f+'%lin_model.intercept_\n",
    "for i, col in enumerate(x_train.columns):\n",
    "    final_formula+='%0.3f * %s + '%(lin_model.coef_[i], col)\n",
    "print(final_formula[:-2])\n"
   ]
  },
  {
   "cell_type": "code",
   "execution_count": 79,
   "metadata": {},
   "outputs": [],
   "source": [
    "#As a result our Linear model shows rather good results,\n",
    "#but it's obvious that's final grade  - 'G3' is affected by 'G1' and 'G2'. \n",
    "#So our goal -  to predict student's grades by their personal characteristics is not achived.\n",
    "#Let's try to remove these 2 features from our dataset.\n",
    "\n",
    "student_df = pd.read_csv('student-mat.csv', sep=';')\n",
    "\n",
    "student_df =  student_df.drop(columns = ['G1', 'G2'])\n",
    "student_df = pd.get_dummies(student_df, drop_first=True)\n",
    "\n",
    "#Get 6 features with highest level of correlation with 'G3'\n",
    "max_corr = student_df.corr().abs()['G3'].sort_values(ascending=False).drop_duplicates()[:7]\n",
    "\n",
    "#Create the features dataframe\n",
    "x = student_df.loc[:, max_corr.index]\n",
    "x = x.drop(columns = 'G3')\n",
    "\n",
    "y = student_df['G3']\n",
    "\n",
    "\n"
   ]
  },
  {
   "cell_type": "code",
   "execution_count": 81,
   "metadata": {},
   "outputs": [
    {
     "name": "stdout",
     "output_type": "stream",
     "text": [
      "Mean absolute error is 3.555774\n",
      "Root Mean squared error is 4.493144\n",
      "0.12368836378451796\n",
      "Grade = 12.17+-1.778 * failures + 0.724 * Medu + 2.126 * higher_yes + -0.151 * age + -0.536 * Fedu + -0.400 * goout \n"
     ]
    }
   ],
   "source": [
    "x_train, x_test, y_train, y_test = train_test_split(x,y, test_size= 0.25, random_state=42)\n",
    "\n",
    "lin_model = LinearRegression()\n",
    "lin_model.fit(x_train, y_train)\n",
    "\n",
    "#Check the Mean Absolute Error and Roor Mean Squared Error\n",
    "mae = np.mean(abs(lin_model.predict(x_test)-y_test))\n",
    "rmse = np.sqrt(np.mean((lin_model.predict(x_test) - y_test) ** 2))\n",
    "\n",
    "print('Mean absolute error is %f' %(mae))\n",
    "print('Root Mean squared error is %f' %rmse)\n",
    "print(lin_model.score(x_test, y_test))\n",
    "final_formula = 'Grade = %0.2f+'%lin_model.intercept_\n",
    "for i, col in enumerate(x_train.columns):\n",
    "    final_formula+='%0.3f * %s + '%(lin_model.coef_[i], col)\n",
    "print(final_formula[:-2])\n",
    "\n"
   ]
  },
  {
   "cell_type": "code",
   "execution_count": 82,
   "metadata": {},
   "outputs": [],
   "source": [
    "#Define function that will plot CV scores vs 'alpha' parameter in Ridge and Lasso Regularization\n",
    "def display_plot(cv_scores, cv_scores_std, cv_scores1, cv_scores_std1):\n",
    "    fig = plt.figure()\n",
    "    ax = fig.add_subplot(1,1,1)\n",
    "    ax.plot(alpha_space, cv_scores, color='blue')\n",
    "    ax.plot(alpha_space, cv_scores1, color='red')\n",
    "\n",
    "\n",
    "    std_error = cv_scores_std / np.sqrt(10)\n",
    "    std_error1 = cv_scores_std1 / np.sqrt(10)\n",
    "\n",
    "\n",
    "    ax.fill_between(alpha_space, cv_scores + std_error, cv_scores - std_error, alpha=0.2)\n",
    "    ax.fill_between(alpha_space, cv_scores1 + std_error1, cv_scores1 - std_error1, alpha=0.2)\n",
    "\n",
    "\n",
    "    ax.set_ylabel('CV Score +/- Std Error')\n",
    "    ax.set_xlabel('Alpha')\n",
    "    ax.axhline(np.max(cv_scores), linestyle='--', color='.5')\n",
    "    ax.set_xlim([alpha_space[0], alpha_space[-1]])\n",
    "    ax.set_xscale('log')\n",
    "    plt.show()"
   ]
  },
  {
   "cell_type": "code",
   "execution_count": 83,
   "metadata": {},
   "outputs": [
    {
     "data": {
      "image/png": "[encoded data removed]",
      "text/plain": [
       "<Figure size 432x288 with 1 Axes>"
      ]
     },
     "metadata": {},
     "output_type": "display_data"
    }
   ],
   "source": [
    "alpha_space = np.logspace(-4, 1, 50)\n",
    "ridge_scores = []\n",
    "lasso_scores = []\n",
    "ridge_scores_std = []\n",
    "lasso_scores_std = []\n",
    "\n",
    "# Create a ridge regressor: ridge\n",
    "ridge = Ridge(normalize=True)\n",
    "lasso = Lasso(normalize=True)\n",
    "# Compute scores over range of alphas\n",
    "for alpha in alpha_space:\n",
    "\n",
    "    # Specify the alpha value to use: ridge.alpha\n",
    "    ridge.alpha = alpha\n",
    "    lasso.alpha = alpha\n",
    "    \n",
    "    # Perform 10-fold CV: ridge_cv_scores\n",
    "    ridge_cv_scores = cross_val_score(ridge, x, y, cv=10)\n",
    "    lasso_cv_scores = cross_val_score(lasso, x, y, cv=10)\n",
    "    \n",
    "    # Append the mean of ridge_cv_scores to ridge_scores\n",
    "    ridge_scores.append(np.mean(ridge_cv_scores))\n",
    "    lasso_scores.append(np.mean(lasso_cv_scores))\n",
    "    \n",
    "    # Append the std of ridge_cv_scores to ridge_scores_std\n",
    "    ridge_scores_std.append(np.std(ridge_cv_scores))\n",
    "    lasso_scores_std.append(np.std(lasso_cv_scores))\n",
    "\n",
    "# Display the plot\n",
    "display_plot(ridge_scores, ridge_scores_std, lasso_scores, lasso_scores_std)"
   ]
  },
  {
   "cell_type": "raw",
   "metadata": {},
   "source": [
    "So our model with dropped 'G1' and 'G2' grades is not efficient at all.\n",
    "Ridge and Lasso Regularization didn't help as well\n",
    "Even by changinf the number of features in our model will not improve the results.\n",
    "To sum up Linear Regression is definetely not the best way to predict studen' grades, \n",
    "let's check classification models in new IPython notebook 'Classification problem for Student Perfomance dataset'"
   ]
  },
  {
   "cell_type": "code",
   "execution_count": null,
   "metadata": {},
   "outputs": [],
   "source": []
  }
 ],
 "metadata": {
  "kernelspec": {
   "display_name": "Python 3",
   "language": "python",
   "name": "python3"
  },
  "language_info": {
   "codemirror_mode": {
    "name": "ipython",
    "version": 3
   },
   "file_extension": ".py",
   "mimetype": "text/x-python",
   "name": "python",
   "nbconvert_exporter": "python",
   "pygments_lexer": "ipython3",
   "version": "3.6.5"
  }
 },
 "nbformat": 4,
 "nbformat_minor": 2
}
